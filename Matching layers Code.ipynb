{
 "cells": [
  {
   "cell_type": "code",
   "execution_count": 2,
   "metadata": {},
   "outputs": [],
   "source": [
    "# import modules\n",
    "import numpy as np\n",
    "import matplotlib.pyplot as plt"
   ]
  },
  {
   "cell_type": "code",
   "execution_count": 3,
   "metadata": {},
   "outputs": [],
   "source": [
    "# define functions to find ratios of transmitted and reflected pulses\n",
    "def trans(z1, z2):\n",
    "    return (4 * z1 * z2) / (z1 + z2)**2\n",
    "\n",
    "def refl(z1, z2):\n",
    "    return (z1 - z2)**2 / (z1 + z2)**2\n",
    "\n",
    "def transcumulative(n, z1, z2):\n",
    "    l = np.linspace(z1, z2, n)\n",
    "    x = 1\n",
    "    for m in range(n-1):\n",
    "        x = x * trans(l[m], l[m+1])\n",
    "    return x"
   ]
  },
  {
   "cell_type": "code",
   "execution_count": 6,
   "metadata": {},
   "outputs": [],
   "source": [
    "# define typical values\n",
    "z_air, z_body, z_pzt = 413, 1.58e6, 30e6"
   ]
  },
  {
   "cell_type": "code",
   "execution_count": 16,
   "metadata": {},
   "outputs": [
    {
     "data": {
      "text/plain": [
       "Text(0.5, 0, 'number of boundries')"
      ]
     },
     "execution_count": 16,
     "metadata": {},
     "output_type": "execute_result"
    },
    {
     "data": {
      "image/png": "[encoded data removed]",
      "text/plain": [
       "<Figure size 432x288 with 1 Axes>"
      ]
     },
     "metadata": {
      "needs_background": "light"
     },
     "output_type": "display_data"
    }
   ],
   "source": [
    "# define intial arrays and maximum number of boundries\n",
    "bmax = 30\n",
    "n = np.arange(2, bmax+2)\n",
    "transcumuldata = np.zeros([bmax])\n",
    "\n",
    "for t in range(0, bmax):\n",
    "    data = transcumulative(t+2, z_body, z_pzt)\n",
    "    transcumuldata[t] = data\n",
    "\n",
    "plt.plot(n, transcumuldata, 'ko')\n",
    "plt.ylabel('ratio of intensity transmitted')\n",
    "plt.xlabel('number of boundries')"
   ]
  },
  {
   "cell_type": "code",
   "execution_count": null,
   "metadata": {},
   "outputs": [],
   "source": []
  }
 ],
 "metadata": {
  "kernelspec": {
   "display_name": "Python 3",
   "language": "python",
   "name": "python3"
  },
  "language_info": {
   "codemirror_mode": {
    "name": "ipython",
    "version": 3
   },
   "file_extension": ".py",
   "mimetype": "text/x-python",
   "name": "python",
   "nbconvert_exporter": "python",
   "pygments_lexer": "ipython3",
   "version": "3.8.5"
  }
 },
 "nbformat": 4,
 "nbformat_minor": 4
}
