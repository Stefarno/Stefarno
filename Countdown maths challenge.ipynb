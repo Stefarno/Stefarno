{
 "cells": [
  {
   "cell_type": "code",
   "execution_count": 1,
   "metadata": {},
   "outputs": [],
   "source": [
    "import numpy as np\n",
    "from itertools import permutations\n",
    "import time"
   ]
  },
  {
   "cell_type": "code",
   "execution_count": 2,
   "metadata": {},
   "outputs": [],
   "source": [
    "numbers = np.array([25, 50, 75, 100, 1, 10])\n",
    "values = np.array([25, 50, 75, 100, 1, 10])\n",
    "number_of_values = 6\n",
    "\n",
    "target = 813"
   ]
  },
  {
   "cell_type": "code",
   "execution_count": 3,
   "metadata": {},
   "outputs": [],
   "source": [
    "def operation(n, p, q):\n",
    "    if n == 0:\n",
    "        return p - q\n",
    "    elif n == 1:\n",
    "        return p + q\n",
    "    elif n == 2:\n",
    "        return p * q\n",
    "    elif n == 3: \n",
    "        return p / q"
   ]
  },
  {
   "cell_type": "code",
   "execution_count": 4,
   "metadata": {},
   "outputs": [],
   "source": [
    "def indexes(k):\n",
    "    arrays = list(permutations(range(k)))\n",
    "    numpy_arrays = np.array(arrays)\n",
    "    return numpy_arrays"
   ]
  },
  {
   "cell_type": "code",
   "execution_count": 5,
   "metadata": {},
   "outputs": [],
   "source": [
    "def typeop(n, p, q, z):\n",
    "    if n == 0:\n",
    "        print(p, 'minus', q, 'equals', z)\n",
    "    elif n == 1:\n",
    "        print(p, 'plus', q, 'equals', z)\n",
    "    elif n == 2:\n",
    "        print(p, 'times', q, 'equals', z)\n",
    "    elif n == 3:\n",
    "        print(p, 'divided by', q, 'equals', z)"
   ]
  },
  {
   "cell_type": "code",
   "execution_count": 6,
   "metadata": {},
   "outputs": [],
   "source": [
    "def solve():\n",
    "    global numbers\n",
    "    global target\n",
    "    for p in range(6):\n",
    "        for q in range(6):\n",
    "            for l in range(6):\n",
    "                for j in range(6):\n",
    "                    for i in range(6):\n",
    "                        for h in range(6):\n",
    "                            array = np.array([p, q, l, i, j, h])\n",
    "                            if np.size(np.unique(array)) == 6:\n",
    "                                for n in range(4):\n",
    "                                    for f in range(4):\n",
    "                                        for d in range(4):\n",
    "                                            for s in range(4):\n",
    "                                                for t in range(4): \n",
    "                                                    u0 = operation(n, numbers[p], numbers[q])\n",
    "                                                    v0 = operation(f, u0, numbers[l])\n",
    "                                                    w0 = operation(d, v0, numbers[j])\n",
    "                                                    x0 = operation(s, w0, numbers[i])\n",
    "                                                    y0 = operation(t, x0, numbers[h])\n",
    "                                                    if y0 == target and (u0 % 1 == 0) and (v0 % 1 == 0) and (w0 % 1 == 0) and (x0 % 1 == 0):\n",
    "                                                        typeop(n, numbers[p], numbers[q], u0)\n",
    "                                                        typeop(f, u0, numbers[l], v0)\n",
    "                                                        typeop(d, v0, numbers[j], w0)\n",
    "                                                        typeop(s, w0, numbers[i], x0)\n",
    "                                                        typeop(t, x0, numbers[h], y0)\n",
    "                                                        print('Hurray')"
   ]
  },
  {
   "cell_type": "code",
   "execution_count": 7,
   "metadata": {},
   "outputs": [],
   "source": [
    "def solve1():\n",
    "    global values\n",
    "    global target\n",
    "    permutations_numbers = indexes(number_of_values)\n",
    "    for l in range(np.size(permutations_numbers, 0)):\n",
    "        given_permutation_numbers = permutations_numbers[l][:]\n",
    "        permutations_operations = indexes(3)\n",
    "        for n in range(4):\n",
    "            for f in range(4):\n",
    "                for d in range(4):\n",
    "                    for s in range(4):\n",
    "                        for t in range(4):\n",
    "                            u0 = operation(n, numbers[given_permutation_numbers[0]], numbers[given_permutation_numbers[1]])\n",
    "                            v0 = operation(f, u0, numbers[given_permutation_numbers[2]])\n",
    "                            w0 = operation(d, v0, numbers[given_permutation_numbers[3]])\n",
    "                            x0 = operation(s, w0, numbers[given_permutation_numbers[4]])\n",
    "                            y0 = operation(t, x0, numbers[given_permutation_numbers[5]])\n",
    "                            if y0 == target and (u0 % 1 == 0) and (v0 % 1 == 0) and (w0 % 1 == 0) and (x0 % 1 == 0):\n",
    "                                typeop(n, numbers[given_permutation_numbers[0]], numbers[given_permutation_numbers[1]], u0)\n",
    "                                typeop(f, u0, numbers[given_permutation_numbers[2]], v0)\n",
    "                                typeop(d, v0, numbers[given_permutation_numbers[3]], w0)\n",
    "                                typeop(s, w0, numbers[given_permutation_numbers[4]], x0)\n",
    "                                typeop(t, x0, numbers[given_permutation_numbers[5]], y0)\n",
    "                                print('Hurray')"
   ]
  },
  {
   "cell_type": "code",
   "execution_count": 8,
   "metadata": {
    "scrolled": true
   },
   "outputs": [
    {
     "name": "stdout",
     "output_type": "stream",
     "text": [
      "75 minus 10 equals 65\n",
      "65 times 25 equals 1625\n",
      "1625 plus 1 equals 1626\n",
      "1626 times 50 equals 81300\n",
      "81300 divided by 100 equals 813.0\n",
      "Hurray\n"
     ]
    }
   ],
   "source": [
    "solve()"
   ]
  },
  {
   "cell_type": "code",
   "execution_count": null,
   "metadata": {},
   "outputs": [
    {
     "name": "stdout",
     "output_type": "stream",
     "text": [
      "75 minus 10 equals 65\n",
      "65 times 25 equals 1625\n",
      "1625 plus 1 equals 1626\n",
      "1626 times 50 equals 81300\n",
      "81300 divided by 100 equals 813.0\n",
      "Hurray\n"
     ]
    }
   ],
   "source": [
    "solve1()"
   ]
  },
  {
   "cell_type": "code",
   "execution_count": null,
   "metadata": {},
   "outputs": [],
   "source": []
  }
 ],
 "metadata": {
  "kernelspec": {
   "display_name": "Python 3",
   "language": "python",
   "name": "python3"
  },
  "language_info": {
   "codemirror_mode": {
    "name": "ipython",
    "version": 3
   },
   "file_extension": ".py",
   "mimetype": "text/x-python",
   "name": "python",
   "nbconvert_exporter": "python",
   "pygments_lexer": "ipython3",
   "version": "3.8.5"
  }
 },
 "nbformat": 4,
 "nbformat_minor": 4
}
